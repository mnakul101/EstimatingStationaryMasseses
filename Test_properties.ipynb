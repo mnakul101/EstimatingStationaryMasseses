{
 "cells": [
  {
   "cell_type": "code",
   "execution_count": 42,
   "id": "f25346af",
   "metadata": {},
   "outputs": [],
   "source": [
    "import numpy as np\n",
    "import matplotlib.pyplot as plt\n",
    "from tqdm import tqdm"
   ]
  },
  {
   "cell_type": "code",
   "execution_count": 43,
   "id": "55cc8536",
   "metadata": {},
   "outputs": [],
   "source": [
    "def GenerateCounts(Xn,d):\n",
    "    \"\"\"\n",
    "    Code to generate counts of each element from a sequence.\n",
    "    \"\"\"\n",
    "    \n",
    "    n = len(Xn)\n",
    "    counts = np.zeros(d)\n",
    "    for i in range(n):\n",
    "        counts[Xn[i]-1] += 1\n",
    "        \n",
    "    return counts\n",
    "\n",
    "def GenerateZetas(Xn,d):\n",
    "    \"\"\"\n",
    "    Code to generate the set of zetas from a sequence.\n",
    "    \"\"\"\n",
    "    \n",
    "    counts = GenerateCounts(Xn,d)\n",
    "    zetas = []\n",
    "    for j in range(d):\n",
    "        if counts[j] not in zetas:\n",
    "            zetas.append(counts[j])\n",
    "            \n",
    "    return zetas"
   ]
  },
  {
   "cell_type": "code",
   "execution_count": 44,
   "id": "c9e8f4be",
   "metadata": {},
   "outputs": [],
   "source": [
    "def GenerateNoOfSymbols(Xn,d):\n",
    "    \"Return the number of symbols\"\n",
    "\n",
    "    counts = GenerateCounts(Xn,d)\n",
    "    zetas = GenerateZetas(Xn,d)\n",
    "    no_symbols = np.zeros(int(np.max(zetas))+1)\n",
    "    for zeta in zetas:\n",
    "        var_phi = 0\n",
    "        for j in range(d):\n",
    "            if counts[j]==zeta:\n",
    "                var_phi+=1\n",
    "        no_symbols[int(zeta)] = var_phi\n",
    "    return no_symbols\n"
   ]
  },
  {
   "cell_type": "code",
   "execution_count": 45,
   "id": "1a2d073a",
   "metadata": {},
   "outputs": [],
   "source": [
    "def acharya_distribution_sample(n):\n",
    "    \"\"\"\n",
    "    Samples from the discrete distribution in Appendix B.11\n",
    "    Args:\n",
    "        n: number of samples in the iid sequence\n",
    "    \"\"\"\n",
    "    # Calculate bucket parameters\n",
    "    log_n = np.log10(n)\n",
    "    #print(log_n)\n",
    "    buckets = []\n",
    "    total_mass = 0.0\n",
    "    \n",
    "    # Create probability buckets\n",
    "    i_min = 1\n",
    "    i_max = int(np.power(n,1/6))\n",
    "    #print(i_min,i_max)\n",
    "    \n",
    "    for i in range(i_min, i_max + 1):\n",
    "        # Base probability for this bucket\n",
    "        base_p = (np.power(n,1/3)*log_n**3)/(1.5*n)+ i * ((np.power(n,1/6)*log_n**3)/(1.5*n))\n",
    "        #print(base_p)\n",
    "        # Number of symbols in this bucket\n",
    "        num_symbols = int(np.sqrt(n)/log_n**3)\n",
    "        #print(num_symbols)\n",
    "        # Create two groups of symbols per bucket\n",
    "        for _ in range(num_symbols):\n",
    "            # First group: probability base_p\n",
    "            buckets.append(base_p)\n",
    "            \n",
    "            # Second group: probability base_p + i/n\n",
    "            total_mass += base_p\n",
    "\n",
    "    # Normalize probabilities\n",
    "    prob_array = np.array(buckets) / total_mass\n",
    "    #print(prob_array)\n",
    "    symbols = np.arange(1,len(prob_array)+1)\n",
    "    d = len(prob_array)\n",
    "    # Sample from the distribution\n",
    "    # while True:\n",
    "    #     Xn = np.random.choice(symbols, p=prob_array,size=n), len(prob_array)\n",
    "\n",
    "    #     zetas = GenerateZetas(Xn,d)\n",
    "    #     zeta_low = n/d \n",
    "    #     if np.min(zetas) >= zeta_low:\n",
    "    #         return Xn,d\n",
    "    \n",
    "    return np.random.choice(symbols, p=prob_array,size=n), d, prob_array"
   ]
  },
  {
   "cell_type": "code",
   "execution_count": 46,
   "id": "642e2ed2",
   "metadata": {},
   "outputs": [],
   "source": [
    "def GenerateUniformIID(n,d):\n",
    "    \"\"\"\n",
    "    Generate a uniform sequence over the alphabet of size d.\n",
    "    \"\"\"\n",
    "    # while True:\n",
    "    #     Xn_iid = np.random.randint(low=1,high=d+1,size=n)\n",
    "    #     zetas = GenerateZetas(Xn_iid,d)\n",
    "    #     zeta_low = n/d \n",
    "    #     if np.min(zetas) >= zeta_low:\n",
    "    #         return Xn_iid\n",
    "    return np.random.randint(low=1,high=d+1,size=n)\n",
    "\n",
    "def GenerateGeometricDuplicate(Xn_iid, Tmix):\n",
    "    \"\"\"\n",
    "    Generate a random duplicated version of any iid-generated sequence.\n",
    "    \"\"\"\n",
    "    \n",
    "    Xn = []\n",
    "    n0 = len(Xn_iid)\n",
    "    for i in range(n0):\n",
    "        Dup = np.random.geometric(1/Tmix)\n",
    "        Xn = Xn + [Xn_iid[i]]*Dup\n",
    "        \n",
    "    return Xn"
   ]
  },
  {
   "cell_type": "code",
   "execution_count": 47,
   "id": "c42cdc32",
   "metadata": {},
   "outputs": [],
   "source": [
    "def EmpiricalEstimatorandStationaryMass(Xn,zeta,d,pi):\n",
    "    \"\"\"\n",
    "    Estimate the mass on all elements occurring zeta times on an originally defined uniform distribution.\n",
    "    \"\"\"\n",
    "    n = len(Xn)\n",
    "    counts = GenerateCounts(Xn,d)\n",
    "    Mhat = 0\n",
    "    Mstar = 0\n",
    "    for j in range(d):\n",
    "        if counts[j] == zeta:\n",
    "            Mhat += zeta\n",
    "            Mstar += pi[j]\n",
    "            \n",
    "    Mhat /= n\n",
    "\n",
    "    return Mhat, Mstar"
   ]
  },
  {
   "cell_type": "code",
   "execution_count": 48,
   "id": "4c6ac921",
   "metadata": {},
   "outputs": [],
   "source": [
    "def EmpiricalEstimatorandStationaryMassUniform(Xn,zeta,d):\n",
    "    \"\"\"\n",
    "    Estimate the mass on all elements occurring zeta times on an originally defined uniform distribution.\n",
    "    \"\"\"\n",
    "    n = len(Xn)\n",
    "    counts = GenerateCounts(Xn,d)\n",
    "    Mhat = 0\n",
    "    Mstar = 0\n",
    "    for j in range(d):\n",
    "        if counts[j] == zeta:\n",
    "            Mhat += zeta\n",
    "            Mstar += 1\n",
    "            \n",
    "    Mhat /= n\n",
    "    Mstar /= d\n",
    "    \n",
    "    \n",
    "    return Mhat, Mstar\n",
    "\n",
    "def GTEstimatorandStationaryMassUniform(Xn,zeta,d):\n",
    "    \"\"\"\n",
    "    Estimate the mass on all elements occurring zeta times on an originally defined uniform distribution.\n",
    "    \"\"\"\n",
    "    n = len(Xn)\n",
    "    counts = GenerateCounts(Xn,d)\n",
    "    Mhat = 0\n",
    "    Mstar = 0\n",
    "    for j in range(d):\n",
    "        if counts[j] == zeta+1:\n",
    "            Mhat += (zeta+1)\n",
    "    for j in range(d):\n",
    "        if counts[j] == zeta:\n",
    "            Mstar += 1\n",
    "            \n",
    "    Mhat /= n\n",
    "    Mstar /= d\n",
    "    \n",
    "    \n",
    "    return Mhat, Mstar"
   ]
  },
  {
   "cell_type": "code",
   "execution_count": 49,
   "id": "f36e4385",
   "metadata": {},
   "outputs": [],
   "source": [
    "def Generate_var_phi(n0,d,Tmix,M):\n",
    "    #Fix a zeta\n",
    "    #zeta = Tmix*int(n0/d + np.sqrt(n0/d))\n",
    "    \n",
    "    var_phi_iid =0\n",
    "    for k in range(M):\n",
    "        #Xn_iid = GenerateUniformIID(n0,d)\n",
    "        Xn_iid,_,_ = acharya_distribution_sample(n0)\n",
    "        #Xn = GenerateGeometricDuplicate(Xn_iid,Tmix)\n",
    "        zetas = GenerateZetas(Xn_iid,d)\n",
    "        zeta = int(np.median(zetas))\n",
    "        var_phi = GenerateNoOfSymbols(Xn_iid,d)\n",
    "\n",
    "        var_phi_iid += var_phi[zeta]\n",
    "    \n",
    "    var_phi_iid /= M\n",
    "\n",
    "    return var_phi_iid"
   ]
  },
  {
   "cell_type": "code",
   "execution_count": 50,
   "id": "13206510",
   "metadata": {},
   "outputs": [],
   "source": [
    "def Generate_max_zeta(n0,d,Tmix,M):\n",
    "    max_zeta = 0\n",
    "    for k in range(M):\n",
    "        Xn_iid = GenerateUniformIID(n0,d)\n",
    "        Xn = GenerateGeometricDuplicate(Xn_iid,Tmix)\n",
    "        #Xn_iid,d,pi = acharya_distribution_sample(n=n0)\n",
    "        zetas = GenerateZetas(Xn,d)\n",
    "        max_zeta += np.median(zetas)\n",
    "    \n",
    "    max_zeta /= M\n",
    "\n",
    "    return max_zeta"
   ]
  },
  {
   "cell_type": "code",
   "execution_count": 51,
   "id": "9394e8fe",
   "metadata": {},
   "outputs": [],
   "source": [
    "def GenerateNoOfZetas(n0,d,Tmix,M):\n",
    "    \"\"\"\n",
    "    Code to generate number of Zetas.\n",
    "    \"\"\"\n",
    "    \n",
    "    no_zetas_iid = 0\n",
    "    no_zetas = 0\n",
    "    for k in range(M):\n",
    "        Xn_iid = GenerateUniformIID(n0,d)\n",
    "        #Xn_iid,d,pi = acharya_distribution_sample(n=n0)\n",
    "        zetas_iid = GenerateZetas(Xn_iid,d)\n",
    "        Xn = GenerateGeometricDuplicate(Xn_iid,Tmix)\n",
    "        zetas = GenerateZetas(Xn,d)\n",
    "        no_zetas_iid += len(zetas_iid)\n",
    "        no_zetas += len(zetas)\n",
    "    no_zetas_iid /= M\n",
    "    no_zetas /=M\n",
    "    return no_zetas_iid, no_zetas"
   ]
  },
  {
   "cell_type": "code",
   "execution_count": null,
   "id": "e09752f5",
   "metadata": {},
   "outputs": [
    {
     "name": "stderr",
     "output_type": "stream",
     "text": [
      "100%|██████████| 1/1 [00:00<00:00,  6.99it/s]\n",
      "100%|██████████| 1/1 [00:00<00:00,  1.06it/s]\n",
      "100%|██████████| 1/1 [00:08<00:00,  8.94s/it]\n",
      "100%|██████████| 3/3 [00:10<00:00,  3.35s/it]\n"
     ]
    }
   ],
   "source": [
    "Tmixes = [1]#np.arange(1,20,5)\n",
    "n0_list = [10000,100000,1000000]\n",
    "var_phi_zetas = []\n",
    "for n0 in tqdm(n0_list):\n",
    "    d = (int)(np.power(n0,2/3))\n",
    "    M = 50\n",
    "    for t in tqdm(range(len(Tmixes))):\n",
    "        Tmix = Tmixes[t]\n",
    "        var_phi_zeta = Generate_var_phi(n0,d,Tmix,M) \n",
    "        var_phi_zetas.append(var_phi_zeta)"
   ]
  },
  {
   "cell_type": "code",
   "execution_count": 53,
   "id": "9c554b9c",
   "metadata": {},
   "outputs": [
    {
     "name": "stderr",
     "output_type": "stream",
     "text": [
      "C:\\Users\\milin\\AppData\\Local\\Temp/ipykernel_52984/1165882104.py:1: RuntimeWarning: divide by zero encountered in log10\n",
      "  plt.plot(np.log10(n0_list),np.log10(var_phi_zetas),label=\"No of Symbols\")\n"
     ]
    },
    {
     "data": {
      "text/plain": [
       "<matplotlib.legend.Legend at 0x296e998cdf0>"
      ]
     },
     "execution_count": 53,
     "metadata": {},
     "output_type": "execute_result"
    },
    {
     "data": {
      "image/png": "[encoded data removed]",
      "text/plain": [
       "<Figure size 432x288 with 1 Axes>"
      ]
     },
     "metadata": {
      "needs_background": "light"
     },
     "output_type": "display_data"
    }
   ],
   "source": [
    "plt.plot(np.log10(n0_list),np.log10(var_phi_zetas),label=\"No of Symbols\")\n",
    "plt.plot(np.log10(n0_list),(1/2)*np.log10(n0_list),label=\"Line with the slope 1/2\")\n",
    "plt.ylabel(\"Log of the no of symbols\")\n",
    "plt.xlabel(\"Log of the Tmixes\")\n",
    "plt.legend()\n",
    "#plt.savefig(\"nVSerror1Tmix1acharyaFixedZeta.pdf\")"
   ]
  },
  {
   "cell_type": "code",
   "execution_count": 54,
   "id": "d694c560",
   "metadata": {},
   "outputs": [],
   "source": [
    "# Tmixes = np.arange(1,20,4)\n",
    "# n0_list = [5000]#[100,1000,10000,100000]\n",
    "# max_zetas_iid = []\n",
    "# for n0 in tqdm(n0_list):\n",
    "#     d = (int)(np.power(n0,2/3))\n",
    "#     M = 100\n",
    "#     for t in tqdm(range(len(Tmixes))):\n",
    "#         Tmix = Tmixes[t]\n",
    "#         max_zeta_iid = Generate_max_zeta(n0,d,Tmix,M)\n",
    "#         max_zetas_iid.append(max_zeta_iid)"
   ]
  },
  {
   "cell_type": "code",
   "execution_count": 55,
   "id": "1462cf67",
   "metadata": {},
   "outputs": [],
   "source": [
    "# plt.figure(figsize=(10,6))\n",
    "# plt.plot(np.log10(Tmixes),np.log10(max_zetas_iid),label=\"Zetas\")\n",
    "# plt.plot(np.log10(Tmixes),(1)*np.log10(Tmixes)+1,label=\"Line with the slope 1/3\")\n",
    "# plt.ylabel(\"Zetas\")\n",
    "# plt.xlabel(\"Log of n0\")\n",
    "# plt.legend()\n",
    "# plt.savefig(\"NoOFZetas.pdf\")\n",
    "# plt.show()"
   ]
  },
  {
   "cell_type": "code",
   "execution_count": 56,
   "id": "8659b905",
   "metadata": {},
   "outputs": [],
   "source": [
    "# Tmixes = np.arange(1,20,4)\n",
    "# #Tmixes = [1]\n",
    "# n0 = 1000#, 10000, 100000]\n",
    "# no_zetas_iid = []\n",
    "# no_zetas = []\n",
    "# d = (int)(np.power(n0,2/3))\n",
    "# M = 500\n",
    "# for t in tqdm(range(len(Tmixes))):\n",
    "#     Tmix = Tmixes[t]\n",
    "#     no_zeta_iid, no_zeta = GenerateNoOfZetas(n0,d,Tmix,M) \n",
    "#     no_zetas_iid.append(no_zeta_iid)\n",
    "#     no_zetas.append(no_zeta)"
   ]
  },
  {
   "cell_type": "code",
   "execution_count": 57,
   "id": "6bf08a0e",
   "metadata": {},
   "outputs": [],
   "source": [
    "# plt.figure(figsize=(10,6))\n",
    "# #plt.plot(np.log10(Tmixes),np.log10(no_zetas_iid),label=\"IID\")\n",
    "# plt.plot(np.log10(Tmixes),np.log10(no_zetas),label=\"Duplicated\")\n",
    "# plt.plot(np.log10(Tmixes),(1/2)*np.log10(Tmixes)+1.25,label=\"Line with some slope\")\n",
    "# plt.ylabel(\"No of Zetas\")\n",
    "# plt.xlabel(\"Mixing Times\")\n",
    "# plt.legend()\n",
    "# plt.savefig(\"NoOFZetas.pdf\")\n",
    "# plt.show()\n"
   ]
  },
  {
   "cell_type": "code",
   "execution_count": null,
   "id": "0ab2be94",
   "metadata": {},
   "outputs": [],
   "source": []
  }
 ],
 "metadata": {
  "kernelspec": {
   "display_name": "Python 3",
   "language": "python",
   "name": "python3"
  },
  "language_info": {
   "codemirror_mode": {
    "name": "ipython",
    "version": 3
   },
   "file_extension": ".py",
   "mimetype": "text/x-python",
   "name": "python",
   "nbconvert_exporter": "python",
   "pygments_lexer": "ipython3",
   "version": "3.8.1"
  }
 },
 "nbformat": 4,
 "nbformat_minor": 5
}
